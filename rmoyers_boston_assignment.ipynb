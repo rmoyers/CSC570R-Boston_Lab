{
 "cells": [
  {
   "cell_type": "markdown",
   "metadata": {},
   "source": [
    "## Boston Housing Assignment\n",
    "\n",
    "In this assignment you'll be using linear regression to estimate the cost of house in boston, using a well known dataset.\n",
    "\n",
    "Goals:\n",
    "+  Measure the performance of the model I created using $R^{2}$ and MSE\n",
    "> Learn how to use sklearn.metrics.r2_score and sklearn.metrics.mean_squared_error\n",
    "+  Implement a new model using L2 regularization\n",
    "> Use sklearn.linear_model.Ridge or sklearn.linear_model.Lasso \n",
    "+  Get the best model you can by optimizing the regularization parameter.   "
   ]
  },
  {
   "cell_type": "code",
   "execution_count": 1,
   "metadata": {
    "collapsed": false
   },
   "outputs": [],
   "source": [
    "from sklearn import datasets\n",
    "import pandas as pd\n",
    "from sklearn.preprocessing import StandardScaler\n",
    "from sklearn.cross_validation import train_test_split\n",
    "from sklearn.metrics import mean_squared_error\n",
    "from sklearn.metrics import r2_score\n",
    "from sklearn.linear_model import LinearRegression\n",
    "from sklearn.linear_model import Ridge"
   ]
  },
  {
   "cell_type": "code",
   "execution_count": 2,
   "metadata": {
    "collapsed": false
   },
   "outputs": [
    {
     "name": "stdout",
     "output_type": "stream",
     "text": [
      "Boston House Prices dataset\n",
      "\n",
      "Notes\n",
      "------\n",
      "Data Set Characteristics:  \n",
      "\n",
      "    :Number of Instances: 506 \n",
      "\n",
      "    :Number of Attributes: 13 numeric/categorical predictive\n",
      "    \n",
      "    :Median Value (attribute 14) is usually the target\n",
      "\n",
      "    :Attribute Information (in order):\n",
      "        - CRIM     per capita crime rate by town\n",
      "        - ZN       proportion of residential land zoned for lots over 25,000 sq.ft.\n",
      "        - INDUS    proportion of non-retail business acres per town\n",
      "        - CHAS     Charles River dummy variable (= 1 if tract bounds river; 0 otherwise)\n",
      "        - NOX      nitric oxides concentration (parts per 10 million)\n",
      "        - RM       average number of rooms per dwelling\n",
      "        - AGE      proportion of owner-occupied units built prior to 1940\n",
      "        - DIS      weighted distances to five Boston employment centres\n",
      "        - RAD      index of accessibility to radial highways\n",
      "        - TAX      full-value property-tax rate per $10,000\n",
      "        - PTRATIO  pupil-teacher ratio by town\n",
      "        - B        1000(Bk - 0.63)^2 where Bk is the proportion of blacks by town\n",
      "        - LSTAT    % lower status of the population\n",
      "        - MEDV     Median value of owner-occupied homes in $1000's\n",
      "\n",
      "    :Missing Attribute Values: None\n",
      "\n",
      "    :Creator: Harrison, D. and Rubinfeld, D.L.\n",
      "\n",
      "This is a copy of UCI ML housing dataset.\n",
      "http://archive.ics.uci.edu/ml/datasets/Housing\n",
      "\n",
      "\n",
      "This dataset was taken from the StatLib library which is maintained at Carnegie Mellon University.\n",
      "\n",
      "The Boston house-price data of Harrison, D. and Rubinfeld, D.L. 'Hedonic\n",
      "prices and the demand for clean air', J. Environ. Economics & Management,\n",
      "vol.5, 81-102, 1978.   Used in Belsley, Kuh & Welsch, 'Regression diagnostics\n",
      "...', Wiley, 1980.   N.B. Various transformations are used in the table on\n",
      "pages 244-261 of the latter.\n",
      "\n",
      "The Boston house-price data has been used in many machine learning papers that address regression\n",
      "problems.   \n",
      "     \n",
      "**References**\n",
      "\n",
      "   - Belsley, Kuh & Welsch, 'Regression diagnostics: Identifying Influential Data and Sources of Collinearity', Wiley, 1980. 244-261.\n",
      "   - Quinlan,R. (1993). Combining Instance-Based and Model-Based Learning. In Proceedings on the Tenth International Conference of Machine Learning, 236-243, University of Massachusetts, Amherst. Morgan Kaufmann.\n",
      "   - many more! (see http://archive.ics.uci.edu/ml/datasets/Housing)\n",
      "\n"
     ]
    }
   ],
   "source": [
    "bean = datasets.load_boston()\n",
    "print(bean.DESCR)"
   ]
  },
  {
   "cell_type": "code",
   "execution_count": 3,
   "metadata": {
    "collapsed": false
   },
   "outputs": [],
   "source": [
    "def load_boston():\n",
    "    scaler = StandardScaler()\n",
    "    boston = datasets.load_boston()\n",
    "    X=boston.data\n",
    "    y=boston.target\n",
    "    X = scaler.fit_transform(X)\n",
    "    return train_test_split(X,y)\n",
    "    "
   ]
  },
  {
   "cell_type": "code",
   "execution_count": 4,
   "metadata": {
    "collapsed": false
   },
   "outputs": [],
   "source": [
    "X_train, X_test, y_train, y_test = load_boston()"
   ]
  },
  {
   "cell_type": "code",
   "execution_count": 5,
   "metadata": {
    "collapsed": false
   },
   "outputs": [
    {
     "data": {
      "text/plain": [
       "(379, 13)"
      ]
     },
     "execution_count": 5,
     "metadata": {},
     "output_type": "execute_result"
    }
   ],
   "source": [
    "X_train.shape"
   ]
  },
  {
   "cell_type": "markdown",
   "metadata": {},
   "source": [
    "### Fitting a Linear Regression\n",
    "\n",
    "It's as easy as instantiating a new regression object (line 1) and giving your regression object your training data\n",
    "(line 2) by calling .fit(independent variables, dependent variable)\n",
    "\n"
   ]
  },
  {
   "cell_type": "code",
   "execution_count": 6,
   "metadata": {
    "collapsed": false
   },
   "outputs": [
    {
     "data": {
      "text/plain": [
       "LinearRegression(copy_X=True, fit_intercept=True, n_jobs=1, normalize=False)"
      ]
     },
     "execution_count": 6,
     "metadata": {},
     "output_type": "execute_result"
    }
   ],
   "source": [
    "\n",
    "clf = LinearRegression()\n",
    "clf.fit(X_train, y_train)"
   ]
  },
  {
   "cell_type": "markdown",
   "metadata": {},
   "source": [
    "### Making a Prediction\n",
    "X_test is our holdout set of data.  We know the answer (y_test) but the computer does not.   \n",
    "\n",
    "Using the command below, I create a tuple for each observation, where I'm combining the real value (y_test) with\n",
    "the value our regressor predicts (clf.predict(X_test))\n",
    "\n",
    "Use a similiar format to get your r2 and mse metrics working.  Using the [scikit learn api](http://scikit-learn.org/stable/modules/model_evaluation.html) if you need help!"
   ]
  },
  {
   "cell_type": "code",
   "execution_count": 7,
   "metadata": {
    "collapsed": false
   },
   "outputs": [
    {
     "data": {
      "text/plain": [
       "[(24.600000000000001, 29.097939902070181),\n",
       " (18.600000000000001, 16.899197284772136),\n",
       " (24.5, 20.716861078738997),\n",
       " (15.6, 12.459996149902809),\n",
       " (27.100000000000001, 19.699333763613584),\n",
       " (37.600000000000001, 36.858256756628037),\n",
       " (32.0, 33.519682352018243),\n",
       " (14.300000000000001, 16.541934426982035),\n",
       " (24.100000000000001, 24.800847099053438),\n",
       " (21.699999999999999, 21.809379902762835),\n",
       " (19.5, 20.280002573570826),\n",
       " (23.0, 22.759218207764199),\n",
       " (31.600000000000001, 33.516963284001974),\n",
       " (32.200000000000003, 31.904912117909753),\n",
       " (50.0, 30.929090893520183),\n",
       " (14.9, 14.823532665067358),\n",
       " (16.600000000000001, 18.367733605278616),\n",
       " (7.0, 8.1745409655631249),\n",
       " (50.0, 43.36410662291388),\n",
       " (23.100000000000001, 25.550786234678036),\n",
       " (19.899999999999999, 19.759553527423588),\n",
       " (21.699999999999999, 21.197041595726482),\n",
       " (23.800000000000001, 25.336292947854613),\n",
       " (21.0, 20.944099529537528),\n",
       " (19.600000000000001, 19.154922985247772),\n",
       " (37.0, 30.363518940800873),\n",
       " (13.300000000000001, 16.134422644132748),\n",
       " (20.399999999999999, 22.763501005468687),\n",
       " (23.0, 19.73702991194747),\n",
       " (20.399999999999999, 19.570273649726293),\n",
       " (18.199999999999999, 18.734954468320062),\n",
       " (37.299999999999997, 34.828208572955333),\n",
       " (20.899999999999999, 20.666584106029454),\n",
       " (13.4, 13.164438306561484),\n",
       " (21.100000000000001, 20.487138516589237),\n",
       " (20.600000000000001, 17.055433178174539),\n",
       " (13.1, 16.058308784056983),\n",
       " (42.799999999999997, 28.612885437904524),\n",
       " (25.100000000000001, 28.984289784181655),\n",
       " (31.600000000000001, 32.04441224115277),\n",
       " (24.0, 29.963632277934252),\n",
       " (19.899999999999999, 18.440310371956599),\n",
       " (50.0, 35.536155618840318),\n",
       " (8.6999999999999993, 8.9743210549774375),\n",
       " (13.4, 15.990393143689008),\n",
       " (46.700000000000003, 34.559270775122258),\n",
       " (33.799999999999997, 34.794255660061381),\n",
       " (10.4, 7.5061172406067733),\n",
       " (23.899999999999999, 27.121697342450595),\n",
       " (20.0, 22.727873412933093),\n",
       " (23.100000000000001, 17.107265233329976),\n",
       " (27.5, 19.670958732679445),\n",
       " (22.199999999999999, 24.107883489512012),\n",
       " (5.0, 9.2230274107152237),\n",
       " (14.1, 15.330511667599799),\n",
       " (20.0, 16.866067909926752),\n",
       " (18.399999999999999, 19.70722138922995),\n",
       " (18.600000000000001, 19.911611552867463),\n",
       " (25.0, 27.511831990770744),\n",
       " (19.100000000000001, 16.856636156102546),\n",
       " (28.600000000000001, 27.427856384929264),\n",
       " (33.399999999999999, 28.104580830170882),\n",
       " (21.5, 20.436689818883785),\n",
       " (30.800000000000001, 31.89888919444741),\n",
       " (9.5, 12.9720976625267),\n",
       " (23.899999999999999, 24.740717047636608),\n",
       " (21.399999999999999, 22.38245553478075),\n",
       " (21.699999999999999, 23.409582319698),\n",
       " (15.6, 15.669065687540176),\n",
       " (21.399999999999999, 25.074362710919747),\n",
       " (14.9, 16.727701381291162),\n",
       " (28.5, 33.947799431774328),\n",
       " (11.800000000000001, 9.3067522127215661),\n",
       " (22.199999999999999, 21.798027538812899),\n",
       " (38.700000000000003, 35.277763058797241),\n",
       " (24.100000000000001, 29.916526540923485),\n",
       " (20.399999999999999, 21.195344770642031),\n",
       " (50.0, 32.788699948266171),\n",
       " (23.800000000000001, 25.883828989080342),\n",
       " (23.0, 23.265196292295784),\n",
       " (33.399999999999999, 35.846332271077763),\n",
       " (13.199999999999999, 9.650812650462683),\n",
       " (24.699999999999999, 25.286945521529727),\n",
       " (30.5, 29.988761100309208),\n",
       " (15.300000000000001, 19.037763274502339),\n",
       " (24.699999999999999, 22.969456616422519),\n",
       " (43.100000000000001, 36.991064354131666),\n",
       " (19.399999999999999, 17.073600829439354),\n",
       " (15.4, 17.822310927848321),\n",
       " (27.5, 24.571174178278923),\n",
       " (14.800000000000001, 15.138327311034519),\n",
       " (23.399999999999999, 23.881789890420663),\n",
       " (31.699999999999999, 32.75064783132693),\n",
       " (29.399999999999999, 30.422124406183588),\n",
       " (24.399999999999999, 22.60445955085142),\n",
       " (17.5, 18.857231526112628),\n",
       " (21.199999999999999, 20.880138621832369),\n",
       " (21.699999999999999, 21.394475396929241),\n",
       " (19.600000000000001, 18.116238415958559),\n",
       " (50.0, 39.432351170274089),\n",
       " (13.5, 12.513880920495659),\n",
       " (27.100000000000001, 26.497025747644173),\n",
       " (15.0, 24.829989412841428),\n",
       " (24.5, 21.053104030131628),\n",
       " (8.5, 8.1567849029901041),\n",
       " (17.100000000000001, 20.239498461277197),\n",
       " (25.0, 24.791526719639087),\n",
       " (7.2000000000000002, 17.795065320191235),\n",
       " (23.100000000000001, 24.65987026433238),\n",
       " (11.9, 22.518280411995196),\n",
       " (13.5, 14.336746104908935),\n",
       " (8.5, 16.405643146420473),\n",
       " (18.100000000000001, 17.178400482849646),\n",
       " (13.1, 14.974546471107278),\n",
       " (17.800000000000001, 21.810826527298794),\n",
       " (16.199999999999999, 20.677015510286946),\n",
       " (24.399999999999999, 23.725468861908421),\n",
       " (27.5, 14.531159205549882),\n",
       " (20.699999999999999, 21.253018240638301),\n",
       " (22.0, 27.50931988008443),\n",
       " (27.899999999999999, 32.450539880488279),\n",
       " (48.299999999999997, 36.275826721602883),\n",
       " (18.699999999999999, 18.259118305153901),\n",
       " (13.4, 14.0086337401058),\n",
       " (17.199999999999999, 14.085214652313379),\n",
       " (21.199999999999999, 23.319321694548236),\n",
       " (29.0, 30.522027437396865)]"
      ]
     },
     "execution_count": 7,
     "metadata": {},
     "output_type": "execute_result"
    }
   ],
   "source": [
    "list(zip (y_test, clf.predict(X_test)))"
   ]
  },
  {
   "cell_type": "markdown",
   "metadata": {},
   "source": [
    "## My work starts here"
   ]
  },
  {
   "cell_type": "markdown",
   "metadata": {},
   "source": [
    "### Coefficient of Determination for the Linear Regression\n",
    "Below is the calculated coefficient of determination for the\n",
    "above linear regression"
   ]
  },
  {
   "cell_type": "code",
   "execution_count": 8,
   "metadata": {
    "collapsed": false
   },
   "outputs": [
    {
     "data": {
      "text/plain": [
       "0.74992450248482678"
      ]
     },
     "execution_count": 8,
     "metadata": {},
     "output_type": "execute_result"
    }
   ],
   "source": [
    "r2_score(y_test, clf.predict(X_test))"
   ]
  },
  {
   "cell_type": "markdown",
   "metadata": {},
   "source": [
    "### Root Mean Squared Error for the Linear Regression\n",
    "Below is the calculated root mean squared error for the above linear regression"
   ]
  },
  {
   "cell_type": "code",
   "execution_count": 9,
   "metadata": {
    "collapsed": false
   },
   "outputs": [
    {
     "data": {
      "text/plain": [
       "4.7937978830992964"
      ]
     },
     "execution_count": 9,
     "metadata": {},
     "output_type": "execute_result"
    }
   ],
   "source": [
    "(mean_squared_error(y_test, clf.predict(X_test)))**0.5"
   ]
  },
  {
   "cell_type": "markdown",
   "metadata": {},
   "source": [
    "### Implementing scikit Ridge"
   ]
  },
  {
   "cell_type": "code",
   "execution_count": 10,
   "metadata": {
    "collapsed": false
   },
   "outputs": [
    {
     "data": {
      "text/plain": [
       "Ridge(alpha=-10.0, copy_X=True, fit_intercept=True, max_iter=None,\n",
       "   normalize=False, random_state=None, solver='auto', tol=0.001)"
      ]
     },
     "execution_count": 10,
     "metadata": {},
     "output_type": "execute_result"
    }
   ],
   "source": [
    "clf_Ridge = Ridge(alpha=-10.0)\n",
    "clf_Ridge.fit(X_train, y_train)"
   ]
  },
  {
   "cell_type": "code",
   "execution_count": 11,
   "metadata": {
    "collapsed": false
   },
   "outputs": [
    {
     "data": {
      "text/plain": [
       "[(24.600000000000001, 29.29418466318829),\n",
       " (18.600000000000001, 15.123747390952744),\n",
       " (24.5, 20.101478109163164),\n",
       " (15.6, 11.307574716319824),\n",
       " (27.100000000000001, 19.40650042311665),\n",
       " (37.600000000000001, 37.396775080214717),\n",
       " (32.0, 33.499745106322479),\n",
       " (14.300000000000001, 16.523632860685915),\n",
       " (24.100000000000001, 24.385032597196826),\n",
       " (21.699999999999999, 21.871086626664823),\n",
       " (19.5, 20.37845732780962),\n",
       " (23.0, 23.474197583823397),\n",
       " (31.600000000000001, 34.546408821840735),\n",
       " (32.200000000000003, 31.953995802213655),\n",
       " (50.0, 31.598008517399176),\n",
       " (14.9, 14.565901447298012),\n",
       " (16.600000000000001, 18.415933273960228),\n",
       " (7.0, 5.8614346783380178),\n",
       " (50.0, 44.948753060889914),\n",
       " (23.100000000000001, 25.224364436090251),\n",
       " (19.899999999999999, 20.331528176790947),\n",
       " (21.699999999999999, 20.728773702084318),\n",
       " (23.800000000000001, 25.311243107750101),\n",
       " (21.0, 20.411409578496752),\n",
       " (19.600000000000001, 18.632718552146859),\n",
       " (37.0, 29.610048284712263),\n",
       " (13.300000000000001, 16.677060332823771),\n",
       " (20.399999999999999, 22.764800614913256),\n",
       " (23.0, 19.23461169763014),\n",
       " (20.399999999999999, 19.068553029127326),\n",
       " (18.199999999999999, 18.451055261374769),\n",
       " (37.299999999999997, 36.134611877882719),\n",
       " (20.899999999999999, 20.042195912945903),\n",
       " (13.4, 12.744140780852247),\n",
       " (21.100000000000001, 20.355283036862829),\n",
       " (20.600000000000001, 16.153424801262407),\n",
       " (13.1, 16.001919450316613),\n",
       " (42.799999999999997, 27.542008920602946),\n",
       " (25.100000000000001, 29.049824090504892),\n",
       " (31.600000000000001, 32.653778491048236),\n",
       " (24.0, 29.305212749241878),\n",
       " (19.899999999999999, 18.348889263886942),\n",
       " (50.0, 35.768347017971806),\n",
       " (8.6999999999999993, 8.5569744674136707),\n",
       " (13.4, 15.849583056528296),\n",
       " (46.700000000000003, 34.725074724934771),\n",
       " (33.799999999999997, 35.091152685327437),\n",
       " (10.4, 7.3834491034871661),\n",
       " (23.899999999999999, 27.406094126320617),\n",
       " (20.0, 22.594445897275303),\n",
       " (23.100000000000001, 16.263093202230589),\n",
       " (27.5, 20.120184895977772),\n",
       " (22.199999999999999, 24.223364293360682),\n",
       " (5.0, 8.3806015234596032),\n",
       " (14.1, 15.208934274625738),\n",
       " (20.0, 16.945878308340781),\n",
       " (18.399999999999999, 19.188932025694655),\n",
       " (18.600000000000001, 19.421071299925419),\n",
       " (25.0, 28.217542607565491),\n",
       " (19.100000000000001, 17.46522208931211),\n",
       " (28.600000000000001, 27.63860777053506),\n",
       " (33.399999999999999, 27.750821254541478),\n",
       " (21.5, 19.464226950947769),\n",
       " (30.800000000000001, 32.727037529167063),\n",
       " (9.5, 12.950388136439118),\n",
       " (23.899999999999999, 24.648758999456742),\n",
       " (21.399999999999999, 24.2415414420995),\n",
       " (21.699999999999999, 23.586718508409113),\n",
       " (15.6, 14.732034699811557),\n",
       " (21.399999999999999, 24.917705420189321),\n",
       " (14.9, 16.595513830106082),\n",
       " (28.5, 35.329446073622115),\n",
       " (11.800000000000001, 8.232524443955862),\n",
       " (22.199999999999999, 21.576950479672774),\n",
       " (38.700000000000003, 34.918727643569511),\n",
       " (24.100000000000001, 29.944660156824433),\n",
       " (20.399999999999999, 20.864638758553884),\n",
       " (50.0, 33.427816765122621),\n",
       " (23.800000000000001, 26.090818784482334),\n",
       " (23.0, 22.967909367595496),\n",
       " (33.399999999999999, 37.270310547996978),\n",
       " (13.199999999999999, 8.8319898380923423),\n",
       " (24.699999999999999, 24.766145277011084),\n",
       " (30.5, 29.351678716529904),\n",
       " (15.300000000000001, 18.006573326395969),\n",
       " (24.699999999999999, 22.972223785331089),\n",
       " (43.100000000000001, 37.316885017656368),\n",
       " (19.399999999999999, 16.12537119279153),\n",
       " (15.4, 17.698292982623126),\n",
       " (27.5, 24.052812729651556),\n",
       " (14.800000000000001, 14.546924532077945),\n",
       " (23.399999999999999, 24.027827797794185),\n",
       " (31.699999999999999, 33.210647514549123),\n",
       " (29.399999999999999, 30.404751789987472),\n",
       " (24.399999999999999, 22.443303080463341),\n",
       " (17.5, 18.455102795370212),\n",
       " (21.199999999999999, 20.40858404986831),\n",
       " (21.699999999999999, 21.354759835814399),\n",
       " (19.600000000000001, 17.353152522948541),\n",
       " (50.0, 39.060724933854871),\n",
       " (13.5, 12.37182960732253),\n",
       " (27.100000000000001, 26.819798555314897),\n",
       " (15.0, 24.95453818837457),\n",
       " (24.5, 20.71841431009242),\n",
       " (8.5, 7.6092269623105118),\n",
       " (17.100000000000001, 19.627212481784106),\n",
       " (25.0, 24.69542751281104),\n",
       " (7.2000000000000002, 17.900572296474596),\n",
       " (23.100000000000001, 24.677317883682903),\n",
       " (11.9, 22.506696189867245),\n",
       " (13.5, 13.830664136142522),\n",
       " (8.5, 16.769692492151982),\n",
       " (18.100000000000001, 16.572277534074992),\n",
       " (13.1, 14.628283504334417),\n",
       " (17.800000000000001, 21.584236524545151),\n",
       " (16.199999999999999, 20.657192469208308),\n",
       " (24.399999999999999, 23.380123470842133),\n",
       " (27.5, 15.644148898315679),\n",
       " (20.699999999999999, 21.005312960843955),\n",
       " (22.0, 27.097622135619766),\n",
       " (27.899999999999999, 33.821175686590884),\n",
       " (48.299999999999997, 36.535054782682053),\n",
       " (18.699999999999999, 18.646722328179539),\n",
       " (13.4, 12.568889073994072),\n",
       " (17.199999999999999, 14.78555348348922),\n",
       " (21.199999999999999, 22.704844489692924),\n",
       " (29.0, 30.662726598334849)]"
      ]
     },
     "execution_count": 11,
     "metadata": {},
     "output_type": "execute_result"
    }
   ],
   "source": [
    "list(zip (y_test, clf_Ridge.predict(X_test)))"
   ]
  },
  {
   "cell_type": "markdown",
   "metadata": {},
   "source": [
    "### Measuring Performance of Ridge"
   ]
  },
  {
   "cell_type": "code",
   "execution_count": 12,
   "metadata": {
    "collapsed": false
   },
   "outputs": [
    {
     "data": {
      "text/plain": [
       "0.74549570527590892"
      ]
     },
     "execution_count": 12,
     "metadata": {},
     "output_type": "execute_result"
    }
   ],
   "source": [
    "r2_score(y_test, clf_Ridge.predict(X_test))"
   ]
  },
  {
   "cell_type": "code",
   "execution_count": 13,
   "metadata": {
    "collapsed": false
   },
   "outputs": [
    {
     "data": {
      "text/plain": [
       "4.8360602874614154"
      ]
     },
     "execution_count": 13,
     "metadata": {},
     "output_type": "execute_result"
    }
   ],
   "source": [
    "(mean_squared_error(y_test, clf_Ridge.predict(X_test)))**0.5"
   ]
  },
  {
   "cell_type": "markdown",
   "metadata": {},
   "source": [
    "### Optimization\n",
    "I started with alpha = 1.0 and tried several values above 1.0 and between 0 and 1.0, I found going below 0 decreased MSE and increased R2. I finally settled on -10 as lower values seemed to increase MSE."
   ]
  },
  {
   "cell_type": "code",
   "execution_count": null,
   "metadata": {
    "collapsed": true
   },
   "outputs": [],
   "source": []
  }
 ],
 "metadata": {
  "anaconda-cloud": {},
  "kernelspec": {
   "display_name": "Python [default]",
   "language": "python",
   "name": "python3"
  },
  "language_info": {
   "codemirror_mode": {
    "name": "ipython",
    "version": 3
   },
   "file_extension": ".py",
   "mimetype": "text/x-python",
   "name": "python",
   "nbconvert_exporter": "python",
   "pygments_lexer": "ipython3",
   "version": "3.5.2"
  }
 },
 "nbformat": 4,
 "nbformat_minor": 0
}
