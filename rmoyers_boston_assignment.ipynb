{
 "cells": [
  {
   "cell_type": "markdown",
   "metadata": {},
   "source": [
    "## Boston Housing Assignment\n",
    "\n",
    "In this assignment you'll be using linear regression to estimate the cost of house in boston, using a well known dataset.\n",
    "\n",
    "Goals:\n",
    "+  Measure the performance of the model I created using $R^{2}$ and MSE\n",
    "> Learn how to use sklearn.metrics.r2_score and sklearn.metrics.mean_squared_error\n",
    "+  Implement a new model using L2 regularization\n",
    "> Use sklearn.linear_model.Ridge or sklearn.linear_model.Lasso \n",
    "+  Get the best model you can by optimizing the regularization parameter.   "
   ]
  },
  {
   "cell_type": "code",
   "execution_count": 2,
   "metadata": {
    "collapsed": false
   },
   "outputs": [],
   "source": [
    "from sklearn import datasets\n",
    "import pandas as pd\n",
    "from sklearn.preprocessing import StandardScaler\n",
    "from sklearn.cross_validation import train_test_split\n",
    "from sklearn.metrics import mean_squared_error\n",
    "from sklearn.metrics import r2_score\n",
    "from sklearn.linear_model import LinearRegression\n",
    "from sklearn.linear_model import Ridge"
   ]
  },
  {
   "cell_type": "code",
   "execution_count": 3,
   "metadata": {
    "collapsed": false
   },
   "outputs": [
    {
     "name": "stdout",
     "output_type": "stream",
     "text": [
      "Boston House Prices dataset\n",
      "\n",
      "Notes\n",
      "------\n",
      "Data Set Characteristics:  \n",
      "\n",
      "    :Number of Instances: 506 \n",
      "\n",
      "    :Number of Attributes: 13 numeric/categorical predictive\n",
      "    \n",
      "    :Median Value (attribute 14) is usually the target\n",
      "\n",
      "    :Attribute Information (in order):\n",
      "        - CRIM     per capita crime rate by town\n",
      "        - ZN       proportion of residential land zoned for lots over 25,000 sq.ft.\n",
      "        - INDUS    proportion of non-retail business acres per town\n",
      "        - CHAS     Charles River dummy variable (= 1 if tract bounds river; 0 otherwise)\n",
      "        - NOX      nitric oxides concentration (parts per 10 million)\n",
      "        - RM       average number of rooms per dwelling\n",
      "        - AGE      proportion of owner-occupied units built prior to 1940\n",
      "        - DIS      weighted distances to five Boston employment centres\n",
      "        - RAD      index of accessibility to radial highways\n",
      "        - TAX      full-value property-tax rate per $10,000\n",
      "        - PTRATIO  pupil-teacher ratio by town\n",
      "        - B        1000(Bk - 0.63)^2 where Bk is the proportion of blacks by town\n",
      "        - LSTAT    % lower status of the population\n",
      "        - MEDV     Median value of owner-occupied homes in $1000's\n",
      "\n",
      "    :Missing Attribute Values: None\n",
      "\n",
      "    :Creator: Harrison, D. and Rubinfeld, D.L.\n",
      "\n",
      "This is a copy of UCI ML housing dataset.\n",
      "http://archive.ics.uci.edu/ml/datasets/Housing\n",
      "\n",
      "\n",
      "This dataset was taken from the StatLib library which is maintained at Carnegie Mellon University.\n",
      "\n",
      "The Boston house-price data of Harrison, D. and Rubinfeld, D.L. 'Hedonic\n",
      "prices and the demand for clean air', J. Environ. Economics & Management,\n",
      "vol.5, 81-102, 1978.   Used in Belsley, Kuh & Welsch, 'Regression diagnostics\n",
      "...', Wiley, 1980.   N.B. Various transformations are used in the table on\n",
      "pages 244-261 of the latter.\n",
      "\n",
      "The Boston house-price data has been used in many machine learning papers that address regression\n",
      "problems.   \n",
      "     \n",
      "**References**\n",
      "\n",
      "   - Belsley, Kuh & Welsch, 'Regression diagnostics: Identifying Influential Data and Sources of Collinearity', Wiley, 1980. 244-261.\n",
      "   - Quinlan,R. (1993). Combining Instance-Based and Model-Based Learning. In Proceedings on the Tenth International Conference of Machine Learning, 236-243, University of Massachusetts, Amherst. Morgan Kaufmann.\n",
      "   - many more! (see http://archive.ics.uci.edu/ml/datasets/Housing)\n",
      "\n"
     ]
    }
   ],
   "source": [
    "bean = datasets.load_boston()\n",
    "print(bean.DESCR)"
   ]
  },
  {
   "cell_type": "code",
   "execution_count": 4,
   "metadata": {
    "collapsed": false
   },
   "outputs": [],
   "source": [
    "def load_boston():\n",
    "    scaler = StandardScaler()\n",
    "    boston = datasets.load_boston()\n",
    "    X=boston.data\n",
    "    y=boston.target\n",
    "    X = scaler.fit_transform(X)\n",
    "    return train_test_split(X,y)\n",
    "    "
   ]
  },
  {
   "cell_type": "code",
   "execution_count": 5,
   "metadata": {
    "collapsed": false
   },
   "outputs": [],
   "source": [
    "X_train, X_test, y_train, y_test = load_boston()"
   ]
  },
  {
   "cell_type": "code",
   "execution_count": 6,
   "metadata": {
    "collapsed": false
   },
   "outputs": [
    {
     "data": {
      "text/plain": [
       "(379, 13)"
      ]
     },
     "execution_count": 6,
     "metadata": {},
     "output_type": "execute_result"
    }
   ],
   "source": [
    "X_train.shape"
   ]
  },
  {
   "cell_type": "markdown",
   "metadata": {},
   "source": [
    "### Fitting a Linear Regression\n",
    "\n",
    "It's as easy as instantiating a new regression object (line 1) and giving your regression object your training data\n",
    "(line 2) by calling .fit(independent variables, dependent variable)\n",
    "\n"
   ]
  },
  {
   "cell_type": "code",
   "execution_count": 7,
   "metadata": {
    "collapsed": false
   },
   "outputs": [
    {
     "data": {
      "text/plain": [
       "LinearRegression(copy_X=True, fit_intercept=True, n_jobs=1, normalize=False)"
      ]
     },
     "execution_count": 7,
     "metadata": {},
     "output_type": "execute_result"
    }
   ],
   "source": [
    "\n",
    "clf = LinearRegression()\n",
    "clf.fit(X_train, y_train)"
   ]
  },
  {
   "cell_type": "markdown",
   "metadata": {},
   "source": [
    "### Making a Prediction\n",
    "X_test is our holdout set of data.  We know the answer (y_test) but the computer does not.   \n",
    "\n",
    "Using the command below, I create a tuple for each observation, where I'm combining the real value (y_test) with\n",
    "the value our regressor predicts (clf.predict(X_test))\n",
    "\n",
    "Use a similiar format to get your r2 and mse metrics working.  Using the [scikit learn api](http://scikit-learn.org/stable/modules/model_evaluation.html) if you need help!"
   ]
  },
  {
   "cell_type": "code",
   "execution_count": 8,
   "metadata": {
    "collapsed": false
   },
   "outputs": [
    {
     "data": {
      "text/plain": [
       "[(20.600000000000001, 21.956761444992264),\n",
       " (21.699999999999999, 23.743470681285672),\n",
       " (20.600000000000001, 22.566593712169578),\n",
       " (20.0, 20.50905872789976),\n",
       " (33.100000000000001, 35.444348117856151),\n",
       " (23.899999999999999, 26.832167408334868),\n",
       " (19.899999999999999, 19.725661917844743),\n",
       " (29.0, 31.995080382648649),\n",
       " (15.300000000000001, 21.613730619487143),\n",
       " (21.5, 24.860095229124319),\n",
       " (24.199999999999999, 25.208952257921943),\n",
       " (8.4000000000000004, 4.4447653344370011),\n",
       " (15.4, 14.900049304156777),\n",
       " (20.100000000000001, 19.178692381080896),\n",
       " (21.199999999999999, 20.844319176689453),\n",
       " (19.899999999999999, 20.122781722476596),\n",
       " (13.1, 14.391455505355953),\n",
       " (34.899999999999999, 34.751389011923301),\n",
       " (24.300000000000001, 19.860019849641752),\n",
       " (18.399999999999999, 18.96914300331596),\n",
       " (14.5, 13.362168381806654),\n",
       " (13.800000000000001, 16.873434746541683),\n",
       " (32.0, 34.038553307125319),\n",
       " (16.199999999999999, 14.953255646233867),\n",
       " (19.699999999999999, 14.343529281410342),\n",
       " (11.699999999999999, 16.297413669478686),\n",
       " (50.0, 43.01555701752843),\n",
       " (35.399999999999999, 30.837315093429499),\n",
       " (22.399999999999999, 23.381994021595276),\n",
       " (43.799999999999997, 34.778476539745157),\n",
       " (23.800000000000001, 26.206565009292095),\n",
       " (13.800000000000001, 6.2782265550040854),\n",
       " (22.800000000000001, 29.747608252686685),\n",
       " (27.5, 19.369665207669943),\n",
       " (14.4, 7.9372677138992529),\n",
       " (23.399999999999999, 24.140333008831686),\n",
       " (22.5, 29.66290464437715),\n",
       " (38.700000000000003, 34.961492064653555),\n",
       " (13.300000000000001, 15.72286806368747),\n",
       " (15.6, 12.912310245276835),\n",
       " (16.800000000000001, 20.731395427179873),\n",
       " (25.0, 21.874445149884529),\n",
       " (17.800000000000001, 20.095840502053743),\n",
       " (21.199999999999999, 23.661501490684742),\n",
       " (10.4, 13.742796283087475),\n",
       " (26.399999999999999, 23.256438544464341),\n",
       " (24.600000000000001, 29.696451739267019),\n",
       " (27.899999999999999, 20.957877651319333),\n",
       " (8.8000000000000007, 6.2251116753274651),\n",
       " (18.699999999999999, 21.717136300403492),\n",
       " (14.1, 18.196907724200422),\n",
       " (22.899999999999999, 22.942933708251125),\n",
       " (10.199999999999999, 17.126015327510018),\n",
       " (24.399999999999999, 28.589032698281784),\n",
       " (16.800000000000001, 21.312134046144276),\n",
       " (20.100000000000001, 15.649041962180018),\n",
       " (25.300000000000001, 25.550664254983385),\n",
       " (23.899999999999999, 27.908465458137385),\n",
       " (13.300000000000001, 19.711356929556924),\n",
       " (31.100000000000001, 32.429105771378296),\n",
       " (15.4, 17.865446492702681),\n",
       " (12.0, 11.773570964693938),\n",
       " (18.199999999999999, 14.619475715155868),\n",
       " (21.600000000000001, 25.694917602388024),\n",
       " (21.800000000000001, 21.737203749436773),\n",
       " (21.5, 20.928999654262505),\n",
       " (19.5, 18.73256834952079),\n",
       " (17.100000000000001, 18.672057403988777),\n",
       " (12.800000000000001, 13.364061122412894),\n",
       " (23.100000000000001, 24.990266868534285),\n",
       " (50.0, 40.816666946361536),\n",
       " (20.399999999999999, 20.729632307218292),\n",
       " (33.299999999999997, 36.051257669308796),\n",
       " (17.800000000000001, 17.260705871366518),\n",
       " (11.0, 14.374882535700838),\n",
       " (23.300000000000001, 28.402767121502428),\n",
       " (22.0, 27.756156677956721),\n",
       " (24.699999999999999, 23.528913997268223),\n",
       " (30.699999999999999, 31.169851109134356),\n",
       " (16.399999999999999, 18.831939297337442),\n",
       " (50.0, 36.256616875808199),\n",
       " (22.5, 17.499676655233529),\n",
       " (28.699999999999999, 27.873704546606799),\n",
       " (7.2000000000000002, 8.9403858974597732),\n",
       " (7.2000000000000002, 8.1390093537036527),\n",
       " (16.100000000000001, 19.861091745211858),\n",
       " (17.5, 16.217711660022225),\n",
       " (22.199999999999999, 19.225704018344754),\n",
       " (19.600000000000001, 18.878126430346597),\n",
       " (23.199999999999999, 27.262592398169922),\n",
       " (19.5, 17.268410845564663),\n",
       " (22.800000000000001, 26.455425063333617),\n",
       " (20.0, 16.94362523007511),\n",
       " (22.199999999999999, 23.707009588364983),\n",
       " (28.0, 28.510634348686921),\n",
       " (16.5, 10.390250426158353),\n",
       " (8.6999999999999993, 8.6163029242513183),\n",
       " (13.4, 12.932480073659923),\n",
       " (22.0, 21.347745035828844),\n",
       " (19.399999999999999, 23.423540156014035),\n",
       " (12.1, 18.069709189097466),\n",
       " (18.100000000000001, 16.471083932343614),\n",
       " (29.399999999999999, 31.455617302016321),\n",
       " (19.399999999999999, 17.642580959956277),\n",
       " (23.100000000000001, 24.245413627695882),\n",
       " (24.0, 30.51436907061321),\n",
       " (17.5, 16.733899100287012),\n",
       " (21.399999999999999, 23.871352355989757),\n",
       " (23.899999999999999, 25.701418679125133),\n",
       " (13.800000000000001, 20.514326007195926),\n",
       " (13.6, 12.27945523691421),\n",
       " (13.800000000000001, 11.413871468007848),\n",
       " (20.399999999999999, 20.94581324511061),\n",
       " (13.4, 14.838129809032775),\n",
       " (24.100000000000001, 20.174341612793434),\n",
       " (50.0, 40.21246747101916),\n",
       " (50.0, 38.555922762251292),\n",
       " (20.0, 22.878007344828461),\n",
       " (30.100000000000001, 24.690892090451577),\n",
       " (25.0, 24.637313292479785),\n",
       " (26.5, 25.607955294605365),\n",
       " (23.100000000000001, 25.363967657251404),\n",
       " (32.200000000000003, 31.427925116329774),\n",
       " (18.600000000000001, 17.010938664821886),\n",
       " (24.800000000000001, 30.659435927138553),\n",
       " (27.899999999999999, 32.44450156737944),\n",
       " (18.5, 25.513308622128989)]"
      ]
     },
     "execution_count": 8,
     "metadata": {},
     "output_type": "execute_result"
    }
   ],
   "source": [
    "list(zip (y_test, clf.predict(X_test)))"
   ]
  },
  {
   "cell_type": "markdown",
   "metadata": {},
   "source": [
    "## My work starts here"
   ]
  },
  {
   "cell_type": "markdown",
   "metadata": {},
   "source": [
    "### Coefficient of Determination for the Linear Regression\n",
    "Below is the calculated coefficient of determination for the\n",
    "above linear regression"
   ]
  },
  {
   "cell_type": "code",
   "execution_count": 9,
   "metadata": {
    "collapsed": false
   },
   "outputs": [
    {
     "data": {
      "text/plain": [
       "0.77900083463490011"
      ]
     },
     "execution_count": 9,
     "metadata": {},
     "output_type": "execute_result"
    }
   ],
   "source": [
    "r2_score(y_test, clf.predict(X_test))"
   ]
  },
  {
   "cell_type": "markdown",
   "metadata": {},
   "source": [
    "### Root Mean Squared Error for the Linear Regression\n",
    "Below is the calculated root mean squared error for the above linear regression"
   ]
  },
  {
   "cell_type": "code",
   "execution_count": 10,
   "metadata": {
    "collapsed": false
   },
   "outputs": [
    {
     "data": {
      "text/plain": [
       "4.0409732231503508"
      ]
     },
     "execution_count": 10,
     "metadata": {},
     "output_type": "execute_result"
    }
   ],
   "source": [
    "(mean_squared_error(y_test, clf.predict(X_test)))**0.5"
   ]
  },
  {
   "cell_type": "markdown",
   "metadata": {},
   "source": [
    "### Implementing scikit Ridge"
   ]
  },
  {
   "cell_type": "code",
   "execution_count": 11,
   "metadata": {
    "collapsed": false
   },
   "outputs": [
    {
     "data": {
      "text/plain": [
       "Ridge(alpha=0.01, copy_X=True, fit_intercept=True, max_iter=None,\n",
       "   normalize=False, random_state=None, solver='auto', tol=0.001)"
      ]
     },
     "execution_count": 11,
     "metadata": {},
     "output_type": "execute_result"
    }
   ],
   "source": [
    "clf_Ridge = Ridge(alpha=0.01)\n",
    "clf_Ridge.fit(X_train, y_train)"
   ]
  },
  {
   "cell_type": "code",
   "execution_count": 12,
   "metadata": {
    "collapsed": false
   },
   "outputs": [
    {
     "data": {
      "text/plain": [
       "[(20.600000000000001, 21.956272597508743),\n",
       " (21.699999999999999, 23.743332398495149),\n",
       " (20.600000000000001, 22.566498006584229),\n",
       " (20.0, 20.508966787931659),\n",
       " (33.100000000000001, 35.444024800758456),\n",
       " (23.899999999999999, 26.832052780899915),\n",
       " (19.899999999999999, 19.725969485147424),\n",
       " (29.0, 31.995261575055714),\n",
       " (15.300000000000001, 21.614280838177525),\n",
       " (21.5, 24.859783985653159),\n",
       " (24.199999999999999, 25.208948064992121),\n",
       " (8.4000000000000004, 4.4452575492332542),\n",
       " (15.4, 14.90077182947643),\n",
       " (20.100000000000001, 19.178322874685875),\n",
       " (21.199999999999999, 20.844617996007081),\n",
       " (19.899999999999999, 20.122379204161668),\n",
       " (13.1, 14.3920375262581),\n",
       " (34.899999999999999, 34.751408051507624),\n",
       " (24.300000000000001, 19.860384364867983),\n",
       " (18.399999999999999, 18.969643998606436),\n",
       " (14.5, 13.362609967714601),\n",
       " (13.800000000000001, 16.872859480668993),\n",
       " (32.0, 34.038345058034714),\n",
       " (16.199999999999999, 14.953567558330001),\n",
       " (19.699999999999999, 14.34386532140088),\n",
       " (11.699999999999999, 16.297485576472241),\n",
       " (50.0, 43.014563983244059),\n",
       " (35.399999999999999, 30.837082823301849),\n",
       " (22.399999999999999, 23.382194641385706),\n",
       " (43.799999999999997, 34.778692593251463),\n",
       " (23.800000000000001, 26.206386964858883),\n",
       " (13.800000000000001, 6.2780201844921777),\n",
       " (22.800000000000001, 29.746976405761263),\n",
       " (27.5, 19.369427743349849),\n",
       " (14.4, 7.9375734120782138),\n",
       " (23.399999999999999, 24.14031378358899),\n",
       " (22.5, 29.66292094321394),\n",
       " (38.700000000000003, 34.961722578109161),\n",
       " (13.300000000000001, 15.722524699596622),\n",
       " (15.6, 12.912780468533159),\n",
       " (16.800000000000001, 20.731631167612953),\n",
       " (25.0, 21.874699019021968),\n",
       " (17.800000000000001, 20.096214843090518),\n",
       " (21.199999999999999, 23.661760283680572),\n",
       " (10.4, 13.744272438324106),\n",
       " (26.399999999999999, 23.255861104053771),\n",
       " (24.600000000000001, 29.696182592633775),\n",
       " (27.899999999999999, 20.957285650640742),\n",
       " (8.8000000000000007, 6.2262632136402445),\n",
       " (18.699999999999999, 21.717008650409419),\n",
       " (14.1, 18.196679397774446),\n",
       " (22.899999999999999, 22.94303964233918),\n",
       " (10.199999999999999, 17.125545940069436),\n",
       " (24.399999999999999, 28.588521790111937),\n",
       " (16.800000000000001, 21.312215369317258),\n",
       " (20.100000000000001, 15.650446099082938),\n",
       " (25.300000000000001, 25.550624276755606),\n",
       " (23.899999999999999, 27.908686064507105),\n",
       " (13.300000000000001, 19.711265760685357),\n",
       " (31.100000000000001, 32.428990293673692),\n",
       " (15.4, 17.86560076315115),\n",
       " (12.0, 11.773307932635284),\n",
       " (18.199999999999999, 14.62032620823206),\n",
       " (21.600000000000001, 25.694809542476047),\n",
       " (21.800000000000001, 21.736659359820518),\n",
       " (21.5, 20.929651155576561),\n",
       " (19.5, 18.732685545096977),\n",
       " (17.100000000000001, 18.672487196997068),\n",
       " (12.800000000000001, 13.364084400221822),\n",
       " (23.100000000000001, 24.990248409551768),\n",
       " (50.0, 40.81694359787074),\n",
       " (20.399999999999999, 20.729855117074226),\n",
       " (33.299999999999997, 36.051357219626247),\n",
       " (17.800000000000001, 17.260933258374379),\n",
       " (11.0, 14.37482110125881),\n",
       " (23.300000000000001, 28.402572971525217),\n",
       " (22.0, 27.756122653696352),\n",
       " (24.699999999999999, 23.528783389976518),\n",
       " (30.699999999999999, 31.169652683501681),\n",
       " (16.399999999999999, 18.832041822977661),\n",
       " (50.0, 36.256426884602405),\n",
       " (22.5, 17.499619329748445),\n",
       " (28.699999999999999, 27.873278281638086),\n",
       " (7.2000000000000002, 8.9407338120226001),\n",
       " (7.2000000000000002, 8.1390717769066008),\n",
       " (16.100000000000001, 19.860770376992427),\n",
       " (17.5, 16.218880041648916),\n",
       " (22.199999999999999, 19.225968976339125),\n",
       " (19.600000000000001, 18.878577533839419),\n",
       " (23.199999999999999, 27.262227566293266),\n",
       " (19.5, 17.268608552874976),\n",
       " (22.800000000000001, 26.455732978367866),\n",
       " (20.0, 16.943646775897065),\n",
       " (22.199999999999999, 23.706929296338313),\n",
       " (28.0, 28.510550611827931),\n",
       " (16.5, 10.39076741038329),\n",
       " (8.6999999999999993, 8.6166948441886522),\n",
       " (13.4, 12.932863129627764),\n",
       " (22.0, 21.34676352652555),\n",
       " (19.399999999999999, 23.423368887768564),\n",
       " (12.1, 18.069639233168679),\n",
       " (18.100000000000001, 16.471605404454444),\n",
       " (29.399999999999999, 31.455396994186181),\n",
       " (19.399999999999999, 17.643200486127064),\n",
       " (23.100000000000001, 24.245475192114519),\n",
       " (24.0, 30.514678052089984),\n",
       " (17.5, 16.734310092079532),\n",
       " (21.399999999999999, 23.871484484737973),\n",
       " (23.899999999999999, 25.701152438837667),\n",
       " (13.800000000000001, 20.514104187366339),\n",
       " (13.6, 12.279816854298186),\n",
       " (13.800000000000001, 11.414848367457784),\n",
       " (20.399999999999999, 20.945954463387594),\n",
       " (13.4, 14.83909089683115),\n",
       " (24.100000000000001, 20.17571325209752),\n",
       " (50.0, 40.212208756165239),\n",
       " (50.0, 38.55572407417003),\n",
       " (20.0, 22.877734140508291),\n",
       " (30.100000000000001, 24.691002451364604),\n",
       " (25.0, 24.637089752466689),\n",
       " (26.5, 25.608260561874911),\n",
       " (23.100000000000001, 25.364326961057532),\n",
       " (32.200000000000003, 31.42796893471661),\n",
       " (18.600000000000001, 17.012234740663267),\n",
       " (24.800000000000001, 30.659554690279904),\n",
       " (27.899999999999999, 32.443620581759163),\n",
       " (18.5, 25.513428267378391)]"
      ]
     },
     "execution_count": 12,
     "metadata": {},
     "output_type": "execute_result"
    }
   ],
   "source": [
    "list(zip (y_test, clf_Ridge.predict(X_test)))"
   ]
  },
  {
   "cell_type": "markdown",
   "metadata": {},
   "source": [
    "### Measuring Performance of Ridge"
   ]
  },
  {
   "cell_type": "code",
   "execution_count": 13,
   "metadata": {
    "collapsed": false
   },
   "outputs": [
    {
     "data": {
      "text/plain": [
       "0.77900752332037548"
      ]
     },
     "execution_count": 13,
     "metadata": {},
     "output_type": "execute_result"
    }
   ],
   "source": [
    "r2_score(y_test, clf_Ridge.predict(X_test))"
   ]
  },
  {
   "cell_type": "code",
   "execution_count": 14,
   "metadata": {
    "collapsed": false
   },
   "outputs": [
    {
     "data": {
      "text/plain": [
       "4.0409120713279592"
      ]
     },
     "execution_count": 14,
     "metadata": {},
     "output_type": "execute_result"
    }
   ],
   "source": [
    "(mean_squared_error(y_test, clf_Ridge.predict(X_test)))**0.5"
   ]
  },
  {
   "cell_type": "markdown",
   "metadata": {},
   "source": [
    "### Optimization\n",
    "I started with alpha = 1.0 and tried several values above 1.0 and between 0 and 1.0, I found approaching 0 decreased MSE and increased R2. I finally settled on 0.01."
   ]
  },
  {
   "cell_type": "code",
   "execution_count": null,
   "metadata": {
    "collapsed": true
   },
   "outputs": [],
   "source": []
  }
 ],
 "metadata": {
  "anaconda-cloud": {},
  "kernelspec": {
   "display_name": "Python [default]",
   "language": "python",
   "name": "python3"
  },
  "language_info": {
   "codemirror_mode": {
    "name": "ipython",
    "version": 3
   },
   "file_extension": ".py",
   "mimetype": "text/x-python",
   "name": "python",
   "nbconvert_exporter": "python",
   "pygments_lexer": "ipython3",
   "version": "3.5.2"
  }
 },
 "nbformat": 4,
 "nbformat_minor": 0
}
